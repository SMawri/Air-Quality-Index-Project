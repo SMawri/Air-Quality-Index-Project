{
 "cells": [
  {
   "cell_type": "code",
   "execution_count": 1,
   "metadata": {},
   "outputs": [],
   "source": [
    "import pandas as pd\n",
    "import numpy as np\n",
    "import os \n",
    "import requests\n",
    "import time\n",
    "import sys"
   ]
  },
  {
   "cell_type": "code",
   "execution_count": 41,
   "metadata": {},
   "outputs": [],
   "source": [
    "def retrieve_html():\n",
    "    for year in range(2013,2019):\n",
    "        for month in range(1,13):\n",
    "            if(month<10):\n",
    "                url=\"http://en.tutiempo.net/climate/0{}-{}/ws-421820.html\".format(month,year)\n",
    "            else:\n",
    "                url=\"http://en.tutiempo.net/climate/{}-{}/ws-421820.html\".format(month,year)\n",
    "                \n",
    "            texts=requests.get(url)\n",
    "            text_utf=texts.text.encode('utf-8')\n",
    "##    print(\"Year is {}\".format(year))\n",
    "##    print(\"Month is {}\".format(month))\n",
    "##    print(\"URL is {}\".format(url))\n",
    "    \n",
    "            if not os.path.exists(\"C:/Users/sandeep.mawri/Documents/Krish/Practise/{}\".format(year)):\n",
    "                os.makedirs(\"C:/Users/sandeep.mawri/Documents/Krish/Practise/{}\".format(year))\n",
    "            with open(\"C:/Users/sandeep.mawri/Documents/Krish/Practise/{}/{}.html\".format(year,month),\"wb\") as output:\n",
    "                output.write(text_utf)\n",
    "                sys.stdout.flush()\n",
    "\n",
    "  \n",
    "\n",
    "\n",
    "        "
   ]
  },
  {
   "cell_type": "code",
   "execution_count": 42,
   "metadata": {},
   "outputs": [
    {
     "name": "stdout",
     "output_type": "stream",
     "text": [
      "Time Taken 108.3002598285675\n"
     ]
    }
   ],
   "source": [
    "if __name__==\"__main__\":\n",
    "    start_time=time.time()\n",
    "    retrieve_html()\n",
    "    stop_time=time.time()\n",
    "    print(\"Time Taken {}\".format(stop_time-start_time)) \n"
   ]
  },
  {
   "cell_type": "code",
   "execution_count": null,
   "metadata": {},
   "outputs": [],
   "source": []
  }
 ],
 "metadata": {
  "kernelspec": {
   "display_name": "Python 3",
   "language": "python",
   "name": "python3"
  },
  "language_info": {
   "codemirror_mode": {
    "name": "ipython",
    "version": 3
   },
   "file_extension": ".py",
   "mimetype": "text/x-python",
   "name": "python",
   "nbconvert_exporter": "python",
   "pygments_lexer": "ipython3",
   "version": "3.7.4"
  }
 },
 "nbformat": 4,
 "nbformat_minor": 2
}
